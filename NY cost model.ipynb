{
 "cells": [
  {
   "cell_type": "markdown",
   "metadata": {
    "deletable": true,
    "editable": true
   },
   "source": [
    "## Cost Model for Trip to New York! The idea is to minimize the amount of cost, and Maximize the amount of fun!"
   ]
  },
  {
   "cell_type": "markdown",
   "metadata": {},
   "source": [
    "Goal: Trying to predict/approximate how our spending in NYC would be, so we can don't go too crazy with our spending, and have a good estimate on how much we are pouring in!"
   ]
  },
  {
   "cell_type": "code",
   "execution_count": 313,
   "metadata": {
    "collapsed": false,
    "deletable": true,
    "editable": true
   },
   "outputs": [],
   "source": [
    "# import all the needed library.\n",
    "import pandas as pd\n",
    "import numpy as np\n",
    "import arrow\n",
    "import seaborn as sns\n",
    "from datetime import datetime\n",
    "\n",
    "%matplotlib inline"
   ]
  },
  {
   "cell_type": "markdown",
   "metadata": {},
   "source": [
    "Defining on all the input we'd like!"
   ]
  },
  {
   "cell_type": "code",
   "execution_count": 318,
   "metadata": {
    "collapsed": true
   },
   "outputs": [],
   "source": [
    "# Global variables. Defining fixed cost/ goal.\n",
    "# Currently fixated at 1050 per person.\n",
    "Budget = 1050\n",
    "# This is how much it costs to fly back and forth from SFO to NYC\n",
    "Airfare_A = 140 + 268.2\n",
    "# This is how much it costs to fly back and forth from OC to NYC\n",
    "# TODO(alex): Ask J what is the actual fare for the flight\n",
    "Airfare_J = 500\n",
    "# How much waitress was per ticket.\n",
    "Waitress_Price = 148.05\n",
    "# Guestimate the approximate spending for housing.\n",
    "Housing_Price_Per_Night = 125\n",
    "Daily_Coffee = 4\n",
    "Lunch_Cost = 10\n",
    "Breakfast_Cost = 10 \n",
    "Dinner_Cost = 20\n",
    "Daily_Commute_Cost = 10\n",
    "Nights_In_NYC = 5"
   ]
  },
  {
   "cell_type": "code",
   "execution_count": 319,
   "metadata": {
    "collapsed": false
   },
   "outputs": [
    {
     "name": "stdout",
     "output_type": "stream",
     "text": [
      "['2017-05-24', '2017-05-25', '2017-05-26', '2017-05-27', '2017-05-28', '2017-05-29']\n"
     ]
    }
   ],
   "source": [
    "# Define the constants that are set.\n",
    "start = datetime(2017, 5, 24)\n",
    "end = datetime(2017, 5, 29)\n",
    "date_range = list()\n",
    "for r in arrow.Arrow.range('day', start, end):\n",
    "    date_range.append(str(r.format('YYYY-MM-DD')))\n",
    "\n",
    "print date_range"
   ]
  },
  {
   "cell_type": "code",
   "execution_count": 344,
   "metadata": {
    "collapsed": false
   },
   "outputs": [
    {
     "name": "stdout",
     "output_type": "stream",
     "text": [
      "Remaining budget is $270.7\n"
     ]
    }
   ],
   "source": [
    "# Define Fixed Cost already:\n",
    "Remaining_Budget = (Budget * 2) - Airfare_A - Airfare_J - (Waitress_Price * 2) - \\\n",
    "(Housing_Price_Per_Night * Nights_In_NYC)\n",
    "print \"Remaining budget is ${}\".format(round(Remaining_Budget,2))"
   ]
  },
  {
   "cell_type": "code",
   "execution_count": 321,
   "metadata": {
    "collapsed": false
   },
   "outputs": [],
   "source": [
    "df = pd.DataFrame(index=date_range,\n",
    "                 columns=['BreakFast',\n",
    "                          'Lunch',\n",
    "                          'Dinner',\n",
    "                          'Coffee',\n",
    "                          'Commute'])\n",
    "df.index.name = 'Date'\n",
    "df = df.reset_index()"
   ]
  },
  {
   "cell_type": "code",
   "execution_count": 322,
   "metadata": {
    "collapsed": false
   },
   "outputs": [],
   "source": [
    "df['Coffee'] = Daily_Coffee\n",
    "df['BreakFast'] = Breakfast_Cost\n",
    "df['Lunch'] = Lunch_Cost\n",
    "df['Dinner'] = Dinner_Cost\n",
    "df['Commute'] = Daily_Commute_Cost"
   ]
  },
  {
   "cell_type": "code",
   "execution_count": 323,
   "metadata": {
    "collapsed": true
   },
   "outputs": [],
   "source": [
    "# Clean up the Data a bit: No breakfast lunch, dinner, coffee for the 24th, \n",
    "# and since we are leaving on the 29th morning, we can take out the lunch, dinner\n",
    "df.loc[df['Date'].isin(['2017-05-24', '2017-05-29']),\n",
    "       ['Coffee', 'Lunch', 'Dinner']] = 0\n",
    "df.loc[df['Date'].isin(['2017-05-24']),  'BreakFast'] = 0"
   ]
  },
  {
   "cell_type": "code",
   "execution_count": 324,
   "metadata": {
    "collapsed": false
   },
   "outputs": [
    {
     "data": {
      "text/html": [
       "<div>\n",
       "<table border=\"1\" class=\"dataframe\">\n",
       "  <thead>\n",
       "    <tr style=\"text-align: right;\">\n",
       "      <th></th>\n",
       "      <th>Date</th>\n",
       "      <th>BreakFast</th>\n",
       "      <th>Lunch</th>\n",
       "      <th>Dinner</th>\n",
       "      <th>Coffee</th>\n",
       "      <th>Commute</th>\n",
       "    </tr>\n",
       "  </thead>\n",
       "  <tbody>\n",
       "    <tr>\n",
       "      <th>0</th>\n",
       "      <td>2017-05-24</td>\n",
       "      <td>0</td>\n",
       "      <td>0</td>\n",
       "      <td>0</td>\n",
       "      <td>0</td>\n",
       "      <td>10</td>\n",
       "    </tr>\n",
       "    <tr>\n",
       "      <th>1</th>\n",
       "      <td>2017-05-25</td>\n",
       "      <td>10</td>\n",
       "      <td>10</td>\n",
       "      <td>20</td>\n",
       "      <td>4</td>\n",
       "      <td>10</td>\n",
       "    </tr>\n",
       "    <tr>\n",
       "      <th>2</th>\n",
       "      <td>2017-05-26</td>\n",
       "      <td>10</td>\n",
       "      <td>10</td>\n",
       "      <td>20</td>\n",
       "      <td>4</td>\n",
       "      <td>10</td>\n",
       "    </tr>\n",
       "    <tr>\n",
       "      <th>3</th>\n",
       "      <td>2017-05-27</td>\n",
       "      <td>10</td>\n",
       "      <td>10</td>\n",
       "      <td>20</td>\n",
       "      <td>4</td>\n",
       "      <td>10</td>\n",
       "    </tr>\n",
       "    <tr>\n",
       "      <th>4</th>\n",
       "      <td>2017-05-28</td>\n",
       "      <td>10</td>\n",
       "      <td>10</td>\n",
       "      <td>20</td>\n",
       "      <td>4</td>\n",
       "      <td>10</td>\n",
       "    </tr>\n",
       "    <tr>\n",
       "      <th>5</th>\n",
       "      <td>2017-05-29</td>\n",
       "      <td>10</td>\n",
       "      <td>0</td>\n",
       "      <td>0</td>\n",
       "      <td>0</td>\n",
       "      <td>10</td>\n",
       "    </tr>\n",
       "  </tbody>\n",
       "</table>\n",
       "</div>"
      ],
      "text/plain": [
       "         Date  BreakFast  Lunch  Dinner  Coffee  Commute\n",
       "0  2017-05-24          0      0       0       0       10\n",
       "1  2017-05-25         10     10      20       4       10\n",
       "2  2017-05-26         10     10      20       4       10\n",
       "3  2017-05-27         10     10      20       4       10\n",
       "4  2017-05-28         10     10      20       4       10\n",
       "5  2017-05-29         10      0       0       0       10"
      ]
     },
     "execution_count": 324,
     "metadata": {},
     "output_type": "execute_result"
    }
   ],
   "source": [
    "df"
   ]
  },
  {
   "cell_type": "markdown",
   "metadata": {},
   "source": [
    "Calculate how much we would spend on daily!"
   ]
  },
  {
   "cell_type": "code",
   "execution_count": 326,
   "metadata": {
    "collapsed": false
   },
   "outputs": [],
   "source": [
    "df['daily_spend'] = df.apply(lambda x: x['BreakFast'] + x['Lunch'] + \\\n",
    "                             x['Dinner'] + x['Coffee'] + x['Commute'], axis = 1)"
   ]
  },
  {
   "cell_type": "code",
   "execution_count": 327,
   "metadata": {
    "collapsed": false
   },
   "outputs": [
    {
     "data": {
      "text/html": [
       "<div>\n",
       "<table border=\"1\" class=\"dataframe\">\n",
       "  <thead>\n",
       "    <tr style=\"text-align: right;\">\n",
       "      <th></th>\n",
       "      <th>Date</th>\n",
       "      <th>BreakFast</th>\n",
       "      <th>Lunch</th>\n",
       "      <th>Dinner</th>\n",
       "      <th>Coffee</th>\n",
       "      <th>Commute</th>\n",
       "      <th>daily_spend</th>\n",
       "    </tr>\n",
       "  </thead>\n",
       "  <tbody>\n",
       "    <tr>\n",
       "      <th>0</th>\n",
       "      <td>2017-05-24</td>\n",
       "      <td>0</td>\n",
       "      <td>0</td>\n",
       "      <td>0</td>\n",
       "      <td>0</td>\n",
       "      <td>10</td>\n",
       "      <td>10</td>\n",
       "    </tr>\n",
       "    <tr>\n",
       "      <th>1</th>\n",
       "      <td>2017-05-25</td>\n",
       "      <td>10</td>\n",
       "      <td>10</td>\n",
       "      <td>20</td>\n",
       "      <td>4</td>\n",
       "      <td>10</td>\n",
       "      <td>54</td>\n",
       "    </tr>\n",
       "    <tr>\n",
       "      <th>2</th>\n",
       "      <td>2017-05-26</td>\n",
       "      <td>10</td>\n",
       "      <td>10</td>\n",
       "      <td>20</td>\n",
       "      <td>4</td>\n",
       "      <td>10</td>\n",
       "      <td>54</td>\n",
       "    </tr>\n",
       "    <tr>\n",
       "      <th>3</th>\n",
       "      <td>2017-05-27</td>\n",
       "      <td>10</td>\n",
       "      <td>10</td>\n",
       "      <td>20</td>\n",
       "      <td>4</td>\n",
       "      <td>10</td>\n",
       "      <td>54</td>\n",
       "    </tr>\n",
       "    <tr>\n",
       "      <th>4</th>\n",
       "      <td>2017-05-28</td>\n",
       "      <td>10</td>\n",
       "      <td>10</td>\n",
       "      <td>20</td>\n",
       "      <td>4</td>\n",
       "      <td>10</td>\n",
       "      <td>54</td>\n",
       "    </tr>\n",
       "    <tr>\n",
       "      <th>5</th>\n",
       "      <td>2017-05-29</td>\n",
       "      <td>10</td>\n",
       "      <td>0</td>\n",
       "      <td>0</td>\n",
       "      <td>0</td>\n",
       "      <td>10</td>\n",
       "      <td>20</td>\n",
       "    </tr>\n",
       "  </tbody>\n",
       "</table>\n",
       "</div>"
      ],
      "text/plain": [
       "         Date  BreakFast  Lunch  Dinner  Coffee  Commute  daily_spend\n",
       "0  2017-05-24          0      0       0       0       10           10\n",
       "1  2017-05-25         10     10      20       4       10           54\n",
       "2  2017-05-26         10     10      20       4       10           54\n",
       "3  2017-05-27         10     10      20       4       10           54\n",
       "4  2017-05-28         10     10      20       4       10           54\n",
       "5  2017-05-29         10      0       0       0       10           20"
      ]
     },
     "execution_count": 327,
     "metadata": {},
     "output_type": "execute_result"
    }
   ],
   "source": [
    "df"
   ]
  },
  {
   "cell_type": "code",
   "execution_count": 328,
   "metadata": {
    "collapsed": false
   },
   "outputs": [
    {
     "name": "stdout",
     "output_type": "stream",
     "text": [
      "We would spend in total: $246 living in NYC\n"
     ]
    }
   ],
   "source": [
    " Total_Spend = df['daily_spend'].sum()\n",
    "print \"We would spend in total: ${} living in NYC\".format(Total_Spend)"
   ]
  },
  {
   "cell_type": "code",
   "execution_count": 329,
   "metadata": {
    "collapsed": true
   },
   "outputs": [],
   "source": [
    "budget_left_post_trip = Remaining_Budget - Total_Spend"
   ]
  },
  {
   "cell_type": "code",
   "execution_count": 343,
   "metadata": {
    "collapsed": false
   },
   "outputs": [
    {
     "name": "stdout",
     "output_type": "stream",
     "text": [
      "Leftover budget is $24.7\n"
     ]
    }
   ],
   "source": [
    "print \"Leftover budget is ${}\".format(round(budget_left_post_trip,2))"
   ]
  },
  {
   "cell_type": "markdown",
   "metadata": {},
   "source": [
    "## It looks like if we follow this spend behavior(or even less than what is estimated, we can really crank up a whole 5 days under 1k per person!) \n",
    "\n",
    "We even would have 24.69 dollars in remain xD\n",
    "\n"
   ]
  },
  {
   "cell_type": "markdown",
   "metadata": {},
   "source": [
    "We can even make a linear equation on Budget to Housing Cost!\n",
    "\n",
    "Technically, it is\n",
    "\n",
    "Input_Budget = (2 X Budget) - Airfare_A - Airfare_J - (Waitress_Price * 2) - Total_Spend - ( 5 X Housing_Price_Per_Night)"
   ]
  },
  {
   "cell_type": "code",
   "execution_count": 335,
   "metadata": {
    "collapsed": true
   },
   "outputs": [],
   "source": [
    "def house_price_to_budget(house_price):\n",
    "    Total_Budget = Airfare_A + Airfare_J + (Waitress_Price * 2)\\\n",
    "    + Total_Spend + (Nights_In_NYC * house_price)\n",
    "    \n",
    "    # Split the budget by 2\n",
    "    return Total_Budget / 2.0"
   ]
  },
  {
   "cell_type": "code",
   "execution_count": 336,
   "metadata": {
    "collapsed": true
   },
   "outputs": [],
   "source": [
    "h1 = 80\n",
    "h2 = 100\n",
    "h3 = 130\n",
    "\n",
    "b1 = house_price_to_budget(h1)\n",
    "b2 = house_price_to_budget(h2)\n",
    "b3 = house_price_to_budget(h3)"
   ]
  },
  {
   "cell_type": "code",
   "execution_count": 337,
   "metadata": {
    "collapsed": false
   },
   "outputs": [
    {
     "name": "stdout",
     "output_type": "stream",
     "text": [
      "    budget  house_price\n",
      "0   925.15           80\n",
      "1   975.15          100\n",
      "2  1050.15          130\n"
     ]
    }
   ],
   "source": [
    "# Let's see what it looks like in a line graph!\n",
    "budget_df = pd.DataFrame({'house_price': [h1,h2,h3],\n",
    "                          'budget': [b1,b2,b3]})\n",
    "print budget_df"
   ]
  },
  {
   "cell_type": "code",
   "execution_count": 341,
   "metadata": {
    "collapsed": false
   },
   "outputs": [
    {
     "data": {
      "text/plain": [
       "<matplotlib.axes._subplots.AxesSubplot at 0x1114dad90>"
      ]
     },
     "execution_count": 341,
     "metadata": {},
     "output_type": "execute_result"
    },
    {
     "data": {
      "image/png": "[encoded data removed]",
      "text/plain": [
       "<matplotlib.figure.Figure at 0x111111490>"
      ]
     },
     "metadata": {},
     "output_type": "display_data"
    }
   ],
   "source": [
    "budget_df.plot.line(x='budget',\n",
    "                   y='house_price',\n",
    "                   title='Daiy House Rental to Total Budget')"
   ]
  },
  {
   "cell_type": "markdown",
   "metadata": {},
   "source": [
    "Hope this is helpful to determine how much we'd want to spend for daily house rental!"
   ]
  }
 ],
 "metadata": {
  "kernelspec": {
   "display_name": "Python 2",
   "language": "python",
   "name": "python2"
  },
  "language_info": {
   "codemirror_mode": {
    "name": "ipython",
    "version": 2
   },
   "file_extension": ".py",
   "mimetype": "text/x-python",
   "name": "python",
   "nbconvert_exporter": "python",
   "pygments_lexer": "ipython2",
   "version": "2.7.10"
  }
 },
 "nbformat": 4,
 "nbformat_minor": 0
}
